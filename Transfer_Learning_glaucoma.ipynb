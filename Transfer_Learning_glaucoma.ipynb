{
  "nbformat": 4,
  "nbformat_minor": 0,
  "metadata": {
    "colab": {
      "name": "Untitled1.ipynb",
      "provenance": [],
      "include_colab_link": true
    },
    "kernelspec": {
      "name": "python3",
      "display_name": "Python 3"
    },
    "accelerator": "GPU"
  },
  "cells": [
    {
      "cell_type": "markdown",
      "metadata": {
        "id": "view-in-github",
        "colab_type": "text"
      },
      "source": [
        "<a href=\"https://colab.research.google.com/github/mohanrajmit/glaucoma-classification/blob/main/Transfer_Learning_glaucoma.ipynb\" target=\"_parent\"><img src=\"https://colab.research.google.com/assets/colab-badge.svg\" alt=\"Open In Colab\"/></a>"
      ]
    },
    {
      "cell_type": "code",
      "metadata": {
        "id": "pdxVC0hnBMo3"
      },
      "source": [
        "from pathlib import Path\n",
        "import numpy as np\n",
        "import joblib\n",
        "from keras.preprocessing import image\n",
        "from keras.applications import xception\n",
        "import imutils\n",
        "from imutils import paths\n",
        "\n",
        "# Empty lists to hold the images and labels for each each image\n",
        "x_train = []\n",
        "y_train = []"
      ],
      "execution_count": 24,
      "outputs": []
    },
    {
      "cell_type": "code",
      "metadata": {
        "id": "YmEmDeXKHtyU",
        "colab": {
          "base_uri": "https://localhost:8080/"
        },
        "outputId": "481b3312-24f2-480b-ee2e-a1324c898b78"
      },
      "source": [
        "!git clone https://github.com/mohanrajmit/glaucoma-classification.git"
      ],
      "execution_count": 25,
      "outputs": [
        {
          "output_type": "stream",
          "name": "stdout",
          "text": [
            "fatal: destination path 'glaucoma-classification' already exists and is not an empty directory.\n"
          ]
        }
      ]
    },
    {
      "cell_type": "code",
      "metadata": {
        "id": "pFzZzArPBQW6"
      },
      "source": [
        "# Load the training data set by looping over every image file\n",
        "for image_file in paths.list_images(\"/content/glaucoma-classification/dataset\"):\n",
        "\n",
        "    # Load the current image file\n",
        "    image_data = image.load_img(image_file, target_size=(73, 73))\n",
        "\n",
        "    # Convert the loaded image file to a numpy array\n",
        "    image_array = image.img_to_array(image_data)\n",
        "\n",
        "    # Add the current image to our list of training images\n",
        "    x_train.append(image_array)\n",
        "\n",
        "    # Add a label for this image. If it was a not_bird image, label it 0. If it was a bird, label it 1.\n",
        "    path = image_file.split(\"/\")[-2]\n",
        "    y_train.append(path)"
      ],
      "execution_count": 26,
      "outputs": []
    },
    {
      "cell_type": "code",
      "metadata": {
        "id": "ngR78nxEp_y6",
        "outputId": "0434dafa-1bdb-48ca-9d1a-389420d0dd9b",
        "colab": {
          "base_uri": "https://localhost:8080/",
          "height": 35
        }
      },
      "source": [
        "y_train[-1]"
      ],
      "execution_count": 28,
      "outputs": [
        {
          "output_type": "execute_result",
          "data": {
            "application/vnd.google.colaboratory.intrinsic+json": {
              "type": "string"
            },
            "text/plain": [
              "'suspicious_glaucoma'"
            ]
          },
          "metadata": {},
          "execution_count": 28
        }
      ]
    },
    {
      "cell_type": "code",
      "metadata": {
        "id": "sBfVYK56BbwT",
        "colab": {
          "base_uri": "https://localhost:8080/"
        },
        "outputId": "58f8d1e1-e50f-4d85-927c-432914585c5b"
      },
      "source": [
        "# Convert the list of separate images into a single 4D numpy array. This is what Keras expects.\n",
        "x_train = np.array(x_train)\n",
        "\n",
        "# Normalize image data to 0-to-1 range\n",
        "x_train = xception.preprocess_input(x_train)\n",
        "\n",
        "# Load the pre-trained neural network to use as a feature extractor\n",
        "feature_extractor = xception.Xception(weights='imagenet', include_top=False, input_shape=(73, 73, 3))\n",
        "\n",
        "# Extract features for each image (all in one pass)\n",
        "features_x = feature_extractor.predict(x_train)\n",
        "\n",
        "# Save the array of extracted features to a file\n",
        "joblib.dump(features_x, \"x_train.dat\")\n",
        "\n",
        "# Save the matching array of expected values to a file\n",
        "joblib.dump(y_train, \"y_train.dat\")\n"
      ],
      "execution_count": 29,
      "outputs": [
        {
          "output_type": "stream",
          "name": "stdout",
          "text": [
            "WARNING:tensorflow:6 out of the last 161 calls to <function Model.make_predict_function.<locals>.predict_function at 0x7fe3a6358ef0> triggered tf.function retracing. Tracing is expensive and the excessive number of tracings could be due to (1) creating @tf.function repeatedly in a loop, (2) passing tensors with different shapes, (3) passing Python objects instead of tensors. For (1), please define your @tf.function outside of the loop. For (2), @tf.function has experimental_relax_shapes=True option that relaxes argument shapes that can avoid unnecessary retracing. For (3), please refer to https://www.tensorflow.org/guide/function#controlling_retracing and https://www.tensorflow.org/api_docs/python/tf/function for  more details.\n"
          ]
        },
        {
          "output_type": "execute_result",
          "data": {
            "text/plain": [
              "['y_train.dat']"
            ]
          },
          "metadata": {},
          "execution_count": 29
        }
      ]
    },
    {
      "cell_type": "code",
      "metadata": {
        "id": "9sXXX9VOBmpv"
      },
      "source": [
        "# Load data set of extracted features\n",
        "x_train = joblib.load(\"x_train.dat\")\n",
        "y_train = joblib.load(\"y_train.dat\")\n"
      ],
      "execution_count": 35,
      "outputs": []
    },
    {
      "cell_type": "code",
      "metadata": {
        "id": "uhuFoIePqcOL"
      },
      "source": [
        "from sklearn import preprocessing\n",
        "le = preprocessing.LabelEncoder()\n",
        "y_train=le.fit_transform(y_train)"
      ],
      "execution_count": 36,
      "outputs": []
    },
    {
      "cell_type": "code",
      "metadata": {
        "id": "mp2RAcv-sXnU",
        "outputId": "6420fcde-6817-4ca7-915a-ef9f53b3293d",
        "colab": {
          "base_uri": "https://localhost:8080/"
        }
      },
      "source": [
        "y_train"
      ],
      "execution_count": 53,
      "outputs": [
        {
          "output_type": "execute_result",
          "data": {
            "text/plain": [
              "array([0, 0, 0, ..., 1, 1, 1])"
            ]
          },
          "metadata": {},
          "execution_count": 53
        }
      ]
    },
    {
      "cell_type": "code",
      "metadata": {
        "id": "dhPwtNaEsapZ",
        "outputId": "25d40549-034a-4cab-8675-37d80d143b25",
        "colab": {
          "base_uri": "https://localhost:8080/"
        }
      },
      "source": [
        "le.classes_"
      ],
      "execution_count": 54,
      "outputs": [
        {
          "output_type": "execute_result",
          "data": {
            "text/plain": [
              "array(['glaucoma', 'notglaucoma'], dtype='<U11')"
            ]
          },
          "metadata": {},
          "execution_count": 54
        }
      ]
    },
    {
      "cell_type": "code",
      "metadata": {
        "id": "kYpwAx1rqpa6",
        "outputId": "c4859c4d-fe68-4f63-f5c4-09ee18aaad18",
        "colab": {
          "base_uri": "https://localhost:8080/"
        }
      },
      "source": [
        "y_train[-1]"
      ],
      "execution_count": 37,
      "outputs": [
        {
          "output_type": "execute_result",
          "data": {
            "text/plain": [
              "1"
            ]
          },
          "metadata": {},
          "execution_count": 37
        }
      ]
    },
    {
      "cell_type": "code",
      "metadata": {
        "id": "3w7PoomPsYHN",
        "colab": {
          "base_uri": "https://localhost:8080/"
        },
        "outputId": "37c74e00-ea7b-4ad6-da27-9cbd13c540cf"
      },
      "source": [
        "Y_train = np.array(y_train)\n",
        "print(x_train.shape[1:])\n",
        "print(Y_train.shape)"
      ],
      "execution_count": 38,
      "outputs": [
        {
          "output_type": "stream",
          "name": "stdout",
          "text": [
            "(3, 3, 2048)\n",
            "(4854,)\n"
          ]
        }
      ]
    },
    {
      "cell_type": "code",
      "metadata": {
        "id": "CvvFDEMpKwQt"
      },
      "source": [
        "from keras.models import Sequential\n",
        "from keras.layers import Dense, Dropout, Flatten"
      ],
      "execution_count": 39,
      "outputs": []
    },
    {
      "cell_type": "code",
      "metadata": {
        "id": "Nn81_QfVBvuj"
      },
      "source": [
        "# Create a model and add layers\n",
        "model = Sequential()\n",
        "\n",
        "# Add layers to our model\n",
        "model.add(Flatten(input_shape=x_train.shape[1:]))\n",
        "model.add(Dense(128, activation='relu'))\n",
        "model.add(Dropout(0.5))\n",
        "model.add(Dense(1, activation='sigmoid'))\n",
        "\n",
        "# Compile the model\n",
        "model.compile(loss='binary_crossentropy',optimizer='adam', metrics=['accuracy'])\n"
      ],
      "execution_count": 40,
      "outputs": []
    },
    {
      "cell_type": "code",
      "metadata": {
        "id": "-Rxngy6-Bynu",
        "colab": {
          "base_uri": "https://localhost:8080/"
        },
        "outputId": "4b432acb-aec9-4d27-dcc0-c3a7c6ca1bde"
      },
      "source": [
        "# Train the model\n",
        "model.fit(x_train,Y_train,epochs=10,shuffle=True, verbose=2)\n",
        "\n",
        "# Save the trained model to a file so we can use it to make predictions later\n",
        "model.save(\"glaucoma_classifier_model.h5\")"
      ],
      "execution_count": 41,
      "outputs": [
        {
          "output_type": "stream",
          "name": "stdout",
          "text": [
            "Epoch 1/10\n",
            "152/152 - 1s - loss: 0.5691 - accuracy: 0.7734\n",
            "Epoch 2/10\n",
            "152/152 - 1s - loss: 0.3875 - accuracy: 0.8218\n",
            "Epoch 3/10\n",
            "152/152 - 1s - loss: 0.3678 - accuracy: 0.8321\n",
            "Epoch 4/10\n",
            "152/152 - 1s - loss: 0.3489 - accuracy: 0.8412\n",
            "Epoch 5/10\n",
            "152/152 - 1s - loss: 0.3417 - accuracy: 0.8430\n",
            "Epoch 6/10\n",
            "152/152 - 1s - loss: 0.3286 - accuracy: 0.8488\n",
            "Epoch 7/10\n",
            "152/152 - 1s - loss: 0.3198 - accuracy: 0.8609\n",
            "Epoch 8/10\n",
            "152/152 - 1s - loss: 0.2940 - accuracy: 0.8712\n",
            "Epoch 9/10\n",
            "152/152 - 1s - loss: 0.2834 - accuracy: 0.8723\n",
            "Epoch 10/10\n",
            "152/152 - 1s - loss: 0.2858 - accuracy: 0.8714\n"
          ]
        }
      ]
    },
    {
      "cell_type": "code",
      "metadata": {
        "id": "UZLgCYOnB1k-"
      },
      "source": [
        "from keras.models import load_model\n",
        "from sklearn.metrics import confusion_matrix, classification_report"
      ],
      "execution_count": 42,
      "outputs": []
    },
    {
      "cell_type": "code",
      "metadata": {
        "id": "yUqfBf9ECFBU"
      },
      "source": [
        "# Empty lists to hold the images and labels for each each image\n",
        "x_test = []\n",
        "y_test = []\n",
        "\n",
        "# Load the test data set by looping over every image file\n",
        "for image_file in paths.list_images(\"/content/glaucoma-classification/test_dataset\"):\n",
        "\n",
        "    # Load the current image file\n",
        "    image_data = image.load_img(image_file, target_size=(73, 73))\n",
        "\n",
        "    # Convert the loaded image file to a numpy array\n",
        "    image_array = image.img_to_array(image_data)\n",
        "\n",
        "    # Add the current image to our list of test images\n",
        "    x_test.append(image_array)\n",
        "    image_path = image_file.split(\"/\")[-2]\n",
        "    y_test.append(image_path)\n",
        "    \n",
        "\n",
        "# Convert the lis_t of test images to a numpy array\n",
        "\n",
        "x_test = np.array(x_test)\n",
        "\n",
        "# Normalize test data set to 0-to-1 range\n",
        "x_test = xception.preprocess_input(x_test)"
      ],
      "execution_count": 44,
      "outputs": []
    },
    {
      "cell_type": "code",
      "metadata": {
        "id": "g4EyPXahooyr"
      },
      "source": [
        "y_test=le.fit_transform(y_test)"
      ],
      "execution_count": 45,
      "outputs": []
    },
    {
      "cell_type": "code",
      "metadata": {
        "id": "3gdbTr08rq2I",
        "outputId": "253b0c38-ce33-4bbd-dd4a-d063ef8f252e",
        "colab": {
          "base_uri": "https://localhost:8080/"
        }
      },
      "source": [
        "y_test\n",
        "\n"
      ],
      "execution_count": 51,
      "outputs": [
        {
          "output_type": "execute_result",
          "data": {
            "text/plain": [
              "array([0, 0, 0, 0, 0, 0, 0, 1, 1, 1, 1, 1, 1])"
            ]
          },
          "metadata": {},
          "execution_count": 51
        }
      ]
    },
    {
      "cell_type": "code",
      "metadata": {
        "id": "0aDoAOTcsOMo",
        "outputId": "f5933f42-573f-47e4-863f-e6f04082bda0",
        "colab": {
          "base_uri": "https://localhost:8080/"
        }
      },
      "source": [
        "le.inverse_transform(y_test)"
      ],
      "execution_count": 52,
      "outputs": [
        {
          "output_type": "execute_result",
          "data": {
            "text/plain": [
              "array(['glaucoma', 'glaucoma', 'glaucoma', 'glaucoma', 'glaucoma',\n",
              "       'glaucoma', 'glaucoma', 'notglaucoma', 'notglaucoma',\n",
              "       'notglaucoma', 'notglaucoma', 'notglaucoma', 'notglaucoma'],\n",
              "      dtype='<U11')"
            ]
          },
          "metadata": {},
          "execution_count": 52
        }
      ]
    },
    {
      "cell_type": "code",
      "metadata": {
        "id": "mPYbXZBMCSGn",
        "colab": {
          "base_uri": "https://localhost:8080/"
        },
        "outputId": "689ac976-5321-4eb2-cc35-633a5452e7b4"
      },
      "source": [
        "# Load our trained classifier model\n",
        "model = load_model(\"/content/glaucoma_classifier_model.h5\")\n",
        "\n",
        "# Extract features for each image (all in one pass)\n",
        "features_x = feature_extractor.predict(x_test)\n",
        "\n",
        "# Given the extracted features, make a final prediction using our own model\n",
        "predictions = model.predict(features_x)\n",
        "\n",
        "# If the model is more than 50% sure the object is a bird, call it a bird.\n",
        "# Otherwise, call it \"not a bird\".\n",
        "predictions = predictions > 0.5\n",
        "\n",
        "# Calculate how many mis-classifications the model makes\n",
        "tn, fp, fn, tp = confusion_matrix(y_test, predictions).ravel()\n",
        "print(f\"True Positives: {tp}\")\n",
        "print(f\"True Negatives: {tn}\")\n",
        "print(f\"False Positives: {fp}\")\n",
        "print(f\"False Negatives: {fn}\")\n",
        "\n",
        "# Calculate Precision and Recall for each class\n",
        "report = classification_report(y_test, predictions)\n",
        "print(report)"
      ],
      "execution_count": 47,
      "outputs": [
        {
          "output_type": "stream",
          "name": "stdout",
          "text": [
            "True Positives: 2\n",
            "True Negatives: 0\n",
            "False Positives: 7\n",
            "False Negatives: 4\n",
            "              precision    recall  f1-score   support\n",
            "\n",
            "           0       0.00      0.00      0.00         7\n",
            "           1       0.22      0.33      0.27         6\n",
            "\n",
            "    accuracy                           0.15        13\n",
            "   macro avg       0.11      0.17      0.13        13\n",
            "weighted avg       0.10      0.15      0.12        13\n",
            "\n"
          ]
        }
      ]
    },
    {
      "cell_type": "code",
      "metadata": {
        "id": "xxwRukX7sNBi"
      },
      "source": [
        ""
      ],
      "execution_count": null,
      "outputs": []
    },
    {
      "cell_type": "code",
      "metadata": {
        "id": "N97Mwb4Nt7Ow"
      },
      "source": [
        ""
      ],
      "execution_count": null,
      "outputs": []
    }
  ]
}